{
 "cells": [
  {
   "cell_type": "code",
   "execution_count": null,
   "id": "c46fe9e2",
   "metadata": {},
   "outputs": [
    {
     "name": "stdout",
     "output_type": "stream",
     "text": [
      "📥 Downloading WikiText-2...\n",
      "🔧 Loading tokenizer...\n"
     ]
    },
    {
     "data": {
      "text/plain": [
       "1"
      ]
     },
     "execution_count": 5,
     "metadata": {},
     "output_type": "execute_result"
    }
   ],
   "source": [
    "from datasets import load_dataset\n",
    "from transformers import GPT2Tokenizer\n",
    "import os\n",
    "import torch\n",
    "\n",
    "# Load raw WikiText-2 dataset\n",
    "print(\"📥 Downloading WikiText-2...\")\n",
    "dataset = load_dataset(\"wikitext\", \"wikitext-2-raw-v1\")\n",
    "\n",
    "# Load and configure GPT2 \n",
    "\n",
    "print(\"🔧 Loading tokenizer...\")\n",
    "tokenizer = GPT2Tokenizer.from_pretrained(\"gpt2\")\n",
    "tokenizer.add_special_tokens({'pad_token': '[PAD]'})"
   ]
  },
  {
   "cell_type": "code",
   "execution_count": 6,
   "id": "bf78105c",
   "metadata": {},
   "outputs": [
    {
     "name": "stdout",
     "output_type": "stream",
     "text": [
      "🔠 Tokenizing dataset...\n"
     ]
    }
   ],
   "source": [
    "# Define block size for input sequences\n",
    "block_size = 128\n",
    "\n",
    "def tokenize(example):\n",
    "    return tokenizer(\n",
    "        example[\"text\"],\n",
    "        truncation=True,\n",
    "        padding=\"max_length\",\n",
    "        max_length=block_size\n",
    "    )\n",
    "\n",
    "# Tokenize the dataset\n",
    "print(\"🔠 Tokenizing dataset...\")\n",
    "tokenized_datasets = dataset.map(\n",
    "    tokenize,\n",
    "    batched=True,\n",
    "    remove_columns=[\"text\"]\n",
    ")"
   ]
  },
  {
   "cell_type": "code",
   "execution_count": 7,
   "id": "296a8adb",
   "metadata": {},
   "outputs": [
    {
     "name": "stdout",
     "output_type": "stream",
     "text": [
      "🔄 Converting to PyTorch tensors...\n",
      "💾 Saving tokenized tensors to ./data\n",
      "✅ All done. Tensors are ready for training.\n"
     ]
    }
   ],
   "source": [
    "\n",
    "# Convert input_ids to torch tensors\n",
    "print(\"🔄 Converting to PyTorch tensors...\")\n",
    "train_input_ids = torch.tensor(tokenized_datasets[\"train\"][\"input_ids\"], dtype=torch.long)\n",
    "val_input_ids = torch.tensor(tokenized_datasets[\"validation\"][\"input_ids\"], dtype=torch.long)\n",
    "\n",
    "# Save tensors to disk for training\n",
    "print(\"💾 Saving tokenized tensors to ./data\")\n",
    "os.makedirs(\"./data\", exist_ok=True)\n",
    "torch.save(train_input_ids, \"./data/wikitext2_train_tensor.pt\")\n",
    "torch.save(val_input_ids, \"./data/wikitext2_val_tensor.pt\")\n",
    "\n",
    "print(\"✅ All done. Tensors are ready for training.\")"
   ]
  }
 ],
 "metadata": {
  "kernelspec": {
   "display_name": "env",
   "language": "python",
   "name": "python3"
  },
  "language_info": {
   "codemirror_mode": {
    "name": "ipython",
    "version": 3
   },
   "file_extension": ".py",
   "mimetype": "text/x-python",
   "name": "python",
   "nbconvert_exporter": "python",
   "pygments_lexer": "ipython3",
   "version": "3.11.2"
  }
 },
 "nbformat": 4,
 "nbformat_minor": 5
}
